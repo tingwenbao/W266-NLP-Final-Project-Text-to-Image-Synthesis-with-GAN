{
 "cells": [
  {
   "cell_type": "markdown",
   "metadata": {},
   "source": [
    "## Load and Examine Data"
   ]
  },
  {
   "cell_type": "code",
   "execution_count": 16,
   "metadata": {
    "collapsed": true
   },
   "outputs": [],
   "source": [
    "import matplotlib.pylab as plt\n",
    "%matplotlib inline\n",
    "import numpy as np\n",
    "import tensorflow as tf\n",
    "import matplotlib.gridspec as gridspec\n",
    "import os\n"
   ]
  },
  {
   "cell_type": "code",
   "execution_count": 2,
   "metadata": {
    "collapsed": true
   },
   "outputs": [],
   "source": [
    "import tflearn.datasets.oxflower17 as oxflower17\n",
    "X, Y = oxflower17.load_data(one_hot=True, resize_pics=(64,64))"
   ]
  },
  {
   "cell_type": "code",
   "execution_count": 60,
   "metadata": {},
   "outputs": [
    {
     "name": "stdout",
     "output_type": "stream",
     "text": [
      "Extracting mnist/train-images-idx3-ubyte.gz\n",
      "Extracting mnist/train-labels-idx1-ubyte.gz\n",
      "Extracting mnist/t10k-images-idx3-ubyte.gz\n",
      "Extracting mnist/t10k-labels-idx1-ubyte.gz\n"
     ]
    }
   ],
   "source": [
    "import tflearn.datasets.mnist as mnist\n",
    "X, Y, testX, testY = mnist.load_data(one_hot=True)\n",
    "X = X.reshape([-1, 28, 28])\n",
    "Y = Y.astype(float)"
   ]
  },
  {
   "cell_type": "code",
   "execution_count": 4,
   "metadata": {},
   "outputs": [
    {
     "name": "stdout",
     "output_type": "stream",
     "text": [
      "(55000, 28, 28)\n",
      "(55000, 10)\n"
     ]
    }
   ],
   "source": [
    "print X.shape\n",
    "print Y.shape"
   ]
  },
  {
   "cell_type": "code",
   "execution_count": 5,
   "metadata": {},
   "outputs": [
    {
     "data": {
      "text/plain": [
       "<matplotlib.image.AxesImage at 0x7f3167cf1410>"
      ]
     },
     "execution_count": 5,
     "metadata": {},
     "output_type": "execute_result"
    },
    {
     "data": {
      "image/png": "[encoded data removed]",
      "text/plain": [
       "<matplotlib.figure.Figure at 0x7f316b128810>"
      ]
     },
     "metadata": {},
     "output_type": "display_data"
    }
   ],
   "source": [
    "plt.imshow(X[30])"
   ]
  },
  {
   "cell_type": "code",
   "execution_count": 61,
   "metadata": {},
   "outputs": [
    {
     "data": {
      "text/plain": [
       "array([ 0.,  0.,  0.,  0.,  0.,  0.,  0.,  1.,  0.,  0.])"
      ]
     },
     "execution_count": 61,
     "metadata": {},
     "output_type": "execute_result"
    }
   ],
   "source": [
    "Y[0,]"
   ]
  },
  {
   "cell_type": "markdown",
   "metadata": {},
   "source": [
    "## GAN"
   ]
  },
  {
   "cell_type": "code",
   "execution_count": 98,
   "metadata": {
    "collapsed": true
   },
   "outputs": [],
   "source": [
    "# Hyperparameters\n",
    "mb_size = 128\n",
    "num_epochs = 30\n",
    "Z_dim = 30\n",
    "image_size = 28\n",
    "label_size = Y.shape[1]\n",
    "D_learning_rate = 0.001\n",
    "G_learning_rate = 0.0005"
   ]
  },
  {
   "cell_type": "code",
   "execution_count": 91,
   "metadata": {
    "collapsed": true
   },
   "outputs": [],
   "source": [
    "def plot(samples):\n",
    "    fig = plt.figure(figsize=(4, 4))\n",
    "    gs = gridspec.GridSpec(4, 4)\n",
    "    gs.update(wspace=0.05, hspace=0.05)\n",
    "\n",
    "    for i, sample in enumerate(samples):\n",
    "        ax = plt.subplot(gs[i])\n",
    "        plt.axis('off')\n",
    "        ax.set_xticklabels([])\n",
    "        ax.set_yticklabels([])\n",
    "        ax.set_aspect('equal')\n",
    "        plt.imshow(sample.reshape(28, 28))\n",
    "\n",
    "    return fig\n",
    "\n",
    "def generate_a_graph(i,j): # generate image by label\n",
    "    label_index = (i)*5+(j)\n",
    "    label_y = np.random.uniform(0, 0, size=[1, label_size])\n",
    "    label_y[0,label_index] = 1 # so that we will know which graph should show what number\n",
    "\n",
    "    z = np.random.uniform(-1., 1., size=[1, Z_dim])\n",
    "    g = sess.run(G_sample, feed_dict={Z_ph: z, Y_real:label_y})\n",
    "    return (g.reshape(image_size, image_size))"
   ]
  },
  {
   "cell_type": "code",
   "execution_count": 88,
   "metadata": {},
   "outputs": [],
   "source": [
    "# Construct the conditional GAN\n",
    "\n",
    "tf.reset_default_graph()\n",
    "\n",
    "def xavier_init(size):\n",
    "    return tf.random_normal(shape=size, stddev=(1. / tf.sqrt(size[0] / 2.)))\n",
    "\n",
    "def generator(z, y):\n",
    "    z_y = tf.concat([z, y], 1)\n",
    "    G_h1 = tf.nn.relu(tf.matmul(z_y, G_W1) + G_b1)\n",
    "    G_log_prob = tf.matmul(G_h1, G_W2) + G_b2\n",
    "    G_prob = tf.nn.sigmoid(G_log_prob)\n",
    "    return G_prob\n",
    "\n",
    "def discriminator(x, y):\n",
    "    x_y = tf.concat([x, y], 1)\n",
    "    D_h1 = tf.nn.relu(tf.matmul(tf.contrib.layers.flatten(x_y), D_W1) + D_b1)\n",
    "    D_logit = tf.matmul(D_h1, D_W2) + D_b2\n",
    "    D_prob = tf.nn.sigmoid(D_logit)\n",
    "    return D_prob, D_logit\n",
    "\n",
    "\n",
    "# Discriminator Net\n",
    "X_ph = tf.placeholder(tf.float32, shape=[None, (image_size*image_size)], name='X')\n",
    "Y_real = tf.placeholder(tf.float32, shape=[None, label_size], name='Y_real')\n",
    "\n",
    "D_W1 = tf.Variable(xavier_init([(image_size*image_size+label_size), 128]), name='D_W1')\n",
    "D_b1 = tf.Variable(tf.zeros(shape=[128]), name='D_b1')\n",
    "\n",
    "D_W2 = tf.Variable(xavier_init([128, 1]), name='D_W2')\n",
    "D_b2 = tf.Variable(tf.zeros(shape=[1]), name='D_b2')\n",
    "\n",
    "theta_D = [D_W1, D_W2, D_b1, D_b2]\n",
    "\n",
    "\n",
    "# Generator Net\n",
    "Z_ph = tf.placeholder(tf.float32, shape=[None, Z_dim], name='Z')\n",
    "\n",
    "G_W1 = tf.Variable(xavier_init([Z_dim+label_size, 128]), name='G_W1')\n",
    "G_b1 = tf.Variable(tf.zeros(shape=[128]), name='G_b1')\n",
    "\n",
    "G_W2 = tf.Variable(xavier_init([128, (image_size*image_size) ]), name='G_W2')\n",
    "G_b2 = tf.Variable(tf.zeros(shape=[(image_size*image_size)]), name='G_b2')\n",
    "\n",
    "theta_G = [G_W1, G_W2, G_b1, G_b2]\n",
    "\n",
    "\n",
    "# losses and MaxMin\n",
    "G_sample = generator(Z_ph, Y_real)\n",
    "D_real, D_logit_real = discriminator(X_ph, Y_real)\n",
    "D_fake, D_logit_fake = discriminator(G_sample,Y_real)\n",
    "\n",
    "D_loss = -tf.reduce_mean(tf.log(D_real) + tf.log(1. - D_fake))\n",
    "G_loss = -tf.reduce_mean(tf.log(D_fake))\n",
    "\n",
    "# Only update D(X)'s parameters, so var_list = theta_D\n",
    "D_solver = tf.train.AdamOptimizer(D_learning_rate,beta1=0.5).minimize(D_loss, var_list=theta_D)\n",
    "# Only update G(X)'s parameters, so var_list = theta_G\n",
    "G_solver = tf.train.AdamOptimizer(G_learning_rate,beta1=0.5).minimize(G_loss, var_list=theta_G)\n",
    "\n"
   ]
  },
  {
   "cell_type": "code",
   "execution_count": 89,
   "metadata": {
    "collapsed": true
   },
   "outputs": [],
   "source": [
    "def sample_Z(m, n):\n",
    "    '''Uniform prior for G(Z)'''\n",
    "    return np.random.uniform(-1., 1., size=[m, n])\n",
    "\n",
    "def batch_iter(data, label, batch_size, num_epochs, shuffle=True):\n",
    "    \"\"\"\n",
    "    Generates a batch iterator for a dataset.\n",
    "    \"\"\"\n",
    "    data = np.array(data)\n",
    "    data_size = len(data)\n",
    "    num_batches_per_epoch = int((len(data)-1)/batch_size) + 1\n",
    "    for epoch in range(num_epochs):\n",
    "        # Shuffle the data at each epoch\n",
    "        if shuffle:\n",
    "            shuffle_indices = np.random.permutation(np.arange(data_size))\n",
    "            shuffled_data = data[shuffle_indices]\n",
    "            shuffled_label = label[shuffle_indices]\n",
    "        else:\n",
    "            shuffled_data = data\n",
    "            shuffled_label = label\n",
    "        for batch_num in range(num_batches_per_epoch):\n",
    "            start_index = batch_num * batch_size\n",
    "            end_index = min((batch_num + 1) * batch_size, data_size)\n",
    "            yield (shuffled_data[start_index:end_index], shuffled_label[start_index:end_index])"
   ]
  },
  {
   "cell_type": "code",
   "execution_count": null,
   "metadata": {},
   "outputs": [
    {
     "name": "stdout",
     "output_type": "stream",
     "text": [
      "Iter: 1\n",
      "D loss: 1.598\n",
      "G_loss: 0.5117\n",
      "()\n"
     ]
    },
    {
     "data": {
      "image/png": "[encoded data removed]",
      "text/plain": [
       "<matplotlib.figure.Figure at 0x7f3164fbc790>"
      ]
     },
     "metadata": {},
     "output_type": "display_data"
    }
   ],
   "source": [
    "## Run the conditional GAN model\n",
    "\n",
    "# define global steps \n",
    "global_step = tf.Variable(0, name=\"global_step\", trainable=False)\n",
    "incr_global_step_op = tf.assign(global_step, global_step+1)\n",
    "\n",
    "# start tf session\n",
    "sess = tf.Session(config=tf.ConfigProto(log_device_placement=True))\n",
    "sess.run(tf.global_variables_initializer())\n",
    "\n",
    "# initialize loss\n",
    "D_loss_c = []\n",
    "G_loss_c = []\n",
    "\n",
    "# Run in mini batch\n",
    "batches = batch_iter(X, Y, mb_size, num_epochs)\n",
    "\n",
    "for image, label in batches:\n",
    "    \n",
    "    _, D_loss_curr, _, G_loss_curr, i = sess.run([D_solver, D_loss, G_solver, G_loss, incr_global_step_op]\n",
    "                                                 ,feed_dict={X_ph: image.reshape([-1,(image_size*image_size)])\n",
    "                                                             , Y_real: label\n",
    "                                                             , Z_ph:sample_Z(image.shape[0], Z_dim)\n",
    "                                                             })\n",
    "    # print some loss during the training\n",
    "    if i % 3000 == 0 or i==1:\n",
    "        print('Iter: {}'.format(i))\n",
    "        print('D loss: {:.4}'. format(D_loss_curr))\n",
    "        print('G_loss: {:.4}'.format(G_loss_curr))\n",
    "        print()\n",
    "        D_loss_c.append(D_loss_curr)\n",
    "        G_loss_c.append(G_loss_curr)\n",
    "        \n",
    "    # generate plot with set label during the training    \n",
    "    if i % 3000 == 0 or i==1:\n",
    "        f, axarr = plt.subplots(2,5)\n",
    "        for n in range(2):\n",
    "            for m in range(5):\n",
    "                im = generate_a_graph(n,m)\n",
    "                axarr[n,m].imshow(im)\n",
    "        plt.show()"
   ]
  },
  {
   "cell_type": "code",
   "execution_count": null,
   "metadata": {
    "collapsed": true
   },
   "outputs": [],
   "source": []
  }
 ],
 "metadata": {
  "kernelspec": {
   "display_name": "Python 2",
   "language": "python",
   "name": "python2"
  },
  "language_info": {
   "codemirror_mode": {
    "name": "ipython",
    "version": 2
   },
   "file_extension": ".py",
   "mimetype": "text/x-python",
   "name": "python",
   "nbconvert_exporter": "python",
   "pygments_lexer": "ipython2",
   "version": "2.7.13"
  }
 },
 "nbformat": 4,
 "nbformat_minor": 2
}
